{
 "cells": [
  {
   "cell_type": "code",
   "execution_count": 40,
   "metadata": {
    "collapsed": true
   },
   "outputs": [],
   "source": [
    "import numpy as np\n",
    "import astropy.units as u\n",
    "import astropy.constants as const\n",
    "MeV = u.def_unit('MeV',u.eV*1e6)\n",
    "GeV = u.def_unit('GeV',u.eV*1e9)\n",
    "ton = u.def_unit('ton',u.kg*907)\n",
    "Kpc = u.def_unit('Kpc',u.pc *1e3)"
   ]
  },
  {
   "cell_type": "code",
   "execution_count": 39,
   "metadata": {
    "collapsed": false
   },
   "outputs": [
    {
     "data": {
      "text/latex": [
       "$1.2392676 \\times 10^{58} \\; \\mathrm{MeV}$"
      ],
      "text/plain": [
       "<Quantity 1.2392676171650541e+58 MeV>"
      ]
     },
     "execution_count": 39,
     "metadata": {},
     "output_type": "execute_result"
    }
   ],
   "source": [
    "E_nu = 15 * u.MeV\n",
    "Q = 1.3 * u.MeV\n",
    "m_e = 0.511 * u.MeV\n",
    "mass_h20 = 700*ton\n",
    "mol_mass_h20 = 18.01 * u.g / u.mol\n",
    "deltaT = 13*u.s\n",
    "D = 50 * Kpc\n",
    "\n",
    "sigma_np = ((1e-47)*(u.m**2))*((E_nu/(1*u.MeV))**(2))*(1-Q/E_nu)*((1-2*Q/E_nu + (Q**2 - m_e**2)/(E_nu**2))**(1/2))\n",
    "sigma_nu = sigma_np / 100\n",
    "\n",
    "n_protons = (mass_h20)*(907.1847*u.kg/(1*ton))*(mol_mass_h20**-1)*(10*const.N_A)\n",
    "n_protons.decompose()\n",
    "\n",
    "n_events = 11\n",
    "gamma = n_events / deltaT\n",
    "flux = gamma / (n_protons * sigma_np)\n",
    "flux = flux.decompose()\n",
    "ti_flux = flux * 13 * u.s\n",
    "ti_flux \n",
    "T_n_nu = ti_flux * 4 * np.pi * D**2\n",
    "T_n_nu = T_n_nu.decompose()\n",
    "T_en_nu = T_n_nu * E_nu\n",
    "T_en_nu"
   ]
  },
  {
   "cell_type": "code",
   "execution_count": 46,
   "metadata": {
    "collapsed": false
   },
   "outputs": [
    {
     "data": {
      "text/latex": [
       "$1.2398419 \\times 10^{-16} \\; \\mathrm{m}$"
      ],
      "text/plain": [
       "<Quantity 1.2398419292004206e-16 m>"
      ]
     },
     "execution_count": 46,
     "metadata": {},
     "output_type": "execute_result"
    }
   ],
   "source": [
    "lambda_db_upper = (2*np.pi*const.hbar)/(10*GeV)\n",
    "lambda_db_upper = lambda_db_upper*const.c\n",
    "lambda_db_upper = lambda_db_upper.decompose()\n",
    "lambda_db_lower = (2*np.pi*const.hbar)/(300*GeV)\n",
    "lambda_db_lower = lamba_db_lower * const.c\n",
    "lambda_db_lower = lambda_db_lower.decompose()\n",
    "lambda_db_upper"
   ]
  },
  {
   "cell_type": "code",
   "execution_count": null,
   "metadata": {
    "collapsed": true
   },
   "outputs": [],
   "source": []
  }
 ],
 "metadata": {
  "anaconda-cloud": {},
  "kernelspec": {
   "display_name": "Python [Root]",
   "language": "python",
   "name": "Python [Root]"
  },
  "language_info": {
   "codemirror_mode": {
    "name": "ipython",
    "version": 3
   },
   "file_extension": ".py",
   "mimetype": "text/x-python",
   "name": "python",
   "nbconvert_exporter": "python",
   "pygments_lexer": "ipython3",
   "version": "3.5.2"
  }
 },
 "nbformat": 4,
 "nbformat_minor": 0
}
